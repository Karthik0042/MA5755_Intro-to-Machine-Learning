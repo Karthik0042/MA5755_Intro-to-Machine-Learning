{
  "nbformat": 4,
  "nbformat_minor": 0,
  "metadata": {
    "colab": {
      "provenance": [],
      "toc_visible": true,
      "authorship_tag": "ABX9TyOcxdQy3oMh5Oc/MzM0dsx6",
      "include_colab_link": true
    },
    "kernelspec": {
      "name": "python3",
      "display_name": "Python 3"
    },
    "language_info": {
      "name": "python"
    }
  },
  "cells": [
    {
      "cell_type": "markdown",
      "metadata": {
        "id": "view-in-github",
        "colab_type": "text"
      },
      "source": [
        "<a href=\"https://colab.research.google.com/github/Karthik0042/MA5755_Intro-to-Machine-Learning/blob/main/MNIST_bs22b022.ipynb\" target=\"_parent\"><img src=\"https://colab.research.google.com/assets/colab-badge.svg\" alt=\"Open In Colab\"/></a>"
      ]
    },
    {
      "cell_type": "code",
      "execution_count": null,
      "metadata": {
        "id": "iUVcBOS1hy1e"
      },
      "outputs": [],
      "source": []
    },
    {
      "cell_type": "markdown",
      "source": [
        "## First Implementation"
      ],
      "metadata": {
        "id": "WO2Gt6CY69_f"
      }
    },
    {
      "cell_type": "code",
      "source": [
        "import numpy as np\n",
        "import pandas as pd\n",
        "from matplotlib import pyplot as plt\n",
        "import tensorflow as tf\n",
        "from tensorflow import keras\n",
        "\n",
        "\n",
        "(x_train, y_train), (x_test, y_test) = keras.datasets.mnist.load_data()\n",
        "\n",
        "\n",
        "x_train = x_train / 255.0\n",
        "x_test = x_test / 255.0\n",
        "\n",
        "# Flatten the images\n",
        "x_train_flat = x_train.reshape(x_train.shape[0], -1).T\n",
        "x_test_flat = x_test.reshape(x_test.shape[0], -1).T\n",
        "\n",
        "m_train = x_train_flat.shape[1]\n",
        "\n",
        "\n",
        "def init_params():\n",
        "    W1 = np.random.rand(10, 784) - 0.5\n",
        "    b1 = np.random.rand(10, 1) - 0.5\n",
        "    W2 = np.random.rand(10, 10) - 0.5\n",
        "    b2 = np.random.rand(10, 1) - 0.5\n",
        "    return W1, b1, W2, b2\n",
        "\n",
        "def ReLU(Z):\n",
        "    return np.maximum(Z, 0)\n",
        "\n",
        "def softmax(Z):\n",
        "    exp_Z = np.exp(Z)\n",
        "    return exp_Z / np.sum(exp_Z, axis=0)\n",
        "\n",
        "def forward_prop(W1, b1, W2, b2, X):\n",
        "    Z1 = W1.dot(X) + b1\n",
        "    A1 = ReLU(Z1)\n",
        "    Z2 = W2.dot(A1) + b2\n",
        "    A2 = softmax(Z2)\n",
        "    return Z1, A1, Z2, A2\n",
        "\n",
        "def ReLU_deriv(Z):\n",
        "    return (Z > 0).astype(int)\n",
        "\n",
        "def one_hot(Y):\n",
        "    one_hot_Y = np.zeros((10, Y.size))\n",
        "    one_hot_Y[Y, np.arange(Y.size)] = 1\n",
        "    return one_hot_Y\n",
        "\n",
        "def backward_prop(Z1, A1, Z2, A2, W1, W2, X, Y):\n",
        "    m = X.shape[1]\n",
        "    one_hot_Y = one_hot(Y)\n",
        "\n",
        "    dZ2 = A2 - one_hot_Y\n",
        "    dW2 = 1 / m * dZ2.dot(A1.T)\n",
        "    db2 = 1 / m * np.sum(dZ2, axis=1, keepdims=True)\n",
        "\n",
        "    dZ1 = W2.T.dot(dZ2) * ReLU_deriv(Z1)\n",
        "    dW1 = 1 / m * dZ1.dot(X.T)\n",
        "    db1 = 1 / m * np.sum(dZ1, axis=1, keepdims=True)\n",
        "\n",
        "    return dW1, db1, dW2, db2\n",
        "\n",
        "def update_params(W1, b1, W2, b2, dW1, db1, dW2, db2, alpha):\n",
        "    W1 -= alpha * dW1\n",
        "    b1 -= alpha * db1\n",
        "    W2 -= alpha * dW2\n",
        "    b2 -= alpha * db2\n",
        "    return W1, b1, W2, b2\n",
        "\n",
        "def get_predictions(A2):\n",
        "    return np.argmax(A2, axis=0)\n",
        "\n",
        "def get_accuracy(predictions, Y):\n",
        "    return np.sum(predictions == Y) / Y.size\n",
        "\n",
        "def gradient_descent(X, Y, alpha, iterations):\n",
        "    W1, b1, W2, b2 = init_params()\n",
        "    for i in range(iterations):\n",
        "        Z1, A1, Z2, A2 = forward_prop(W1, b1, W2, b2, X)\n",
        "        dW1, db1, dW2, db2 = backward_prop(Z1, A1, Z2, A2, W1, W2, X, Y)\n",
        "        W1, b1, W2, b2 = update_params(W1, b1, W2, b2, alpha=0.1, dW1=dW1, db1=db1, dW2=dW2, db2=db2)\n",
        "\n",
        "        if i % 50 == 0:\n",
        "            predictions = get_predictions(A2)\n",
        "            accuracy = get_accuracy(predictions, Y)\n",
        "            print(f\"Iteration {i}: Accuracy = {accuracy:.2%}\")\n",
        "\n",
        "    return W1, b1, W2, b2\n",
        "\n",
        "W1, b1, W2, b2 = gradient_descent(x_train_flat, y_train, alpha=0.1, iterations=500)\n",
        "\n",
        "def test_prediction(index, X, Y, W1, b1, W2, b2):\n",
        "    current_image = X[:, index, None]\n",
        "    prediction = get_predictions(forward_prop(W1, b1, W2, b2, current_image)[3])\n",
        "    label = Y[index]\n",
        "\n",
        "    print(\"Prediction:\", prediction[0])\n",
        "    print(\"Label:\", label)\n",
        "\n",
        "    plt.imshow(current_image.reshape((28, 28)), cmap='gray')\n",
        "    plt.show()\n",
        "\n",
        "test_prediction(0, x_train_flat, y_train, W1, b1, W2, b2)\n"
      ],
      "metadata": {
        "colab": {
          "base_uri": "https://localhost:8080/",
          "height": 534
        },
        "id": "kcIodfHtiX6q",
        "outputId": "cb5e2197-3b94-4792-9f66-cc3980050e43"
      },
      "execution_count": null,
      "outputs": [
        {
          "output_type": "stream",
          "name": "stdout",
          "text": [
            "Iteration 0: Accuracy = 14.77%\n",
            "Iteration 50: Accuracy = 45.15%\n",
            "Iteration 100: Accuracy = 61.03%\n",
            "Iteration 150: Accuracy = 69.66%\n",
            "Prediction: 0\n",
            "Label: 5\n"
          ]
        },
        {
          "output_type": "display_data",
          "data": {
            "text/plain": [
              "<Figure size 640x480 with 1 Axes>"
            ],
            "image/png": "[encoded data removed]"
          },
          "metadata": {}
        }
      ]
    },
    {
      "cell_type": "markdown",
      "source": [
        "## 2nd Implemetation"
      ],
      "metadata": {
        "id": "pf3dooKg7IoC"
      }
    },
    {
      "cell_type": "code",
      "source": [
        "import numpy as np\n",
        "import pandas as pd\n",
        "from matplotlib import pyplot as plt\n",
        "import tensorflow as tf\n",
        "from tensorflow import keras\n",
        "\n",
        "(x_train, y_train), (x_test, y_test) = keras.datasets.mnist.load_data()\n",
        "x_train = x_train / 255.0\n",
        "x_test = x_test / 255.0\n",
        "print(x_train.dtypes)\n",
        "\n",
        "\n",
        "x_train_flat = x_train.reshape(x_train.shape[0], -1).T\n",
        "x_test_flat = x_test.reshape(x_test.shape[0], -1).T\n",
        "\n",
        "print(x_train_flat.dtypes)\n",
        "m_train = x_train_flat.shape[1]\n",
        "print(m_train.dtypes)\n",
        "def init_params():\n",
        "\n",
        "    W1 = np.random.rand(20, 784) - 0.5\n",
        "    b1 = np.random.rand(20, 1) - 0.5\n",
        "\n",
        "    W2 = np.random.rand(10, 20) - 0.5\n",
        "    b2 = np.random.rand(10, 1) - 0.5\n",
        "\n",
        "\n",
        "    W3 = np.random.rand(10, 10) - 0.5\n",
        "    b3 = np.random.rand(10, 1) - 0.5\n",
        "\n",
        "    return W1, b1, W2, b2, W3, b3\n",
        "\n",
        "def ReLU(Z):\n",
        "    return np.maximum(Z, 0)\n",
        "\n",
        "def softmax(Z):\n",
        "    Z -= np.max(Z, axis=0)\n",
        "    A = np.exp(Z) / np.sum(np.exp(Z), axis=0)\n",
        "    return A\n",
        "\n",
        "def forward_prop(W1, b1, W2, b2, W3, b3, X):\n",
        "    Z1 = W1.dot(X) + b1\n",
        "    A1 = ReLU(Z1)\n",
        "\n",
        "    Z2 = W2.dot(A1) + b2\n",
        "    A2 = ReLU(Z2)\n",
        "\n",
        "    Z3 = W3.dot(A2) + b3\n",
        "    A3 = softmax(Z3)\n",
        "\n",
        "    return Z1, A1, Z2, A2, Z3, A3\n",
        "\n",
        "\n",
        "def ReLU_deriv(Z):\n",
        "    return (Z > 0).astype(int)\n",
        "\n",
        "def one_hot(Y):\n",
        "    one_hot_Y = np.zeros((10, Y.size))\n",
        "    one_hot_Y[Y, np.arange(Y.size)] = 1\n",
        "    return one_hot_Y\n",
        "\n",
        "def backward_prop(Z1, A1, Z2, A2, Z3, A3, W1, W2, W3, X, Y):\n",
        "    m = X.shape[1]\n",
        "    one_hot_Y = one_hot(Y)\n",
        "\n",
        "\n",
        "    dZ3 = A3 - one_hot_Y\n",
        "    dW3 = 1 / m * dZ3.dot(A2.T)\n",
        "    db3 = 1 / m * np.sum(dZ3, axis=1, keepdims=True)\n",
        "\n",
        "\n",
        "    dZ2 = W3.T.dot(dZ3) * ReLU_deriv(Z2)\n",
        "    dW2 = 1 / m * dZ2.dot(A1.T)\n",
        "    db2 = 1 / m * np.sum(dZ2, axis=1, keepdims=True)\n",
        "\n",
        "\n",
        "    dZ1 = W2.T.dot(dZ2) * ReLU_deriv(Z1)\n",
        "    dW1 = 1 / m * dZ1.dot(X.T)\n",
        "    db1 = 1 / m * np.sum(dZ1, axis=1, keepdims=True)\n",
        "\n",
        "    return dW1, db1, dW2, db2, dW3, db3\n",
        "\n",
        "def update_params(W1, b1, W2, b2, W3, b3, dW1, db1, dW2, db2, dW3, db3, alpha):\n",
        "    W1 -= alpha * dW1\n",
        "    b1 -= alpha * db1\n",
        "    W2 -= alpha * dW2\n",
        "    b2 -= alpha * db2\n",
        "    W3 -= alpha * dW3\n",
        "    b3 -= alpha * db3\n",
        "\n",
        "    return W1, b1, W2, b2, W3, b3\n",
        "\n",
        "\n",
        "def get_predictions(A3):\n",
        "    return np.argmax(A3, axis=0)\n",
        "\n",
        "def get_accuracy(predictions, Y):\n",
        "    return np.sum(predictions == Y) / Y.size\n",
        "\n",
        "def gradient_descent(X, Y, alpha, iterations):\n",
        "    W1, b1, W2, b2, W3, b3 = init_params()\n",
        "    for i in range(iterations):\n",
        "        Z1, A1, Z2, A2, Z3, A3 = forward_prop(W1, b1, W2, b2, W3, b3, X)\n",
        "        dW1, db1, dW2, db2, dW3, db3 = backward_prop(Z1, A1, Z2, A2, Z3, A3, W1, W2, W3, X, Y)\n",
        "        W1, b1, W2, b2, W3, b3 = update_params(W1, b1, W2, b2, W3, b3, dW1, db1, dW2, db2, dW3, db3, alpha)\n",
        "\n",
        "        if i % 100 == 0:\n",
        "            predictions = get_predictions(A3)\n",
        "            accuracy = get_accuracy(predictions, Y)\n",
        "            print(f\"Iteration {i}: Accuracy = {accuracy:.2%}\")\n",
        "\n",
        "    return W1, b1, W2, b2, W3, b3\n",
        "\n",
        "W1, b1, W2, b2, W3, b3 = gradient_descent(x_train_flat, y_train, alpha=0.1, iterations=1000)\n",
        "\n",
        "def test_prediction(index, X, Y, W1, b1, W2, W3, b3):\n",
        "    current_image = X[:, index, None]\n",
        "    prediction = get_predictions(forward_prop(W1, b1, W2, b2, W3, b3, current_image)[3])\n",
        "    label = Y[index]\n",
        "\n",
        "    print(\"Prediction:\", prediction[0])\n",
        "    print(\"Label:\", label)\n",
        "\n",
        "    plt.imshow(current_image.reshape((28, 28)), cmap='gray')\n",
        "    plt.show()\n",
        "\n",
        "[test_prediction(i, x_train_flat, y_train, W1, b1, W2, W3, b3) for i in range(0,5)]\n",
        "\n"
      ],
      "metadata": {
        "colab": {
          "base_uri": "https://localhost:8080/",
          "height": 300
        },
        "id": "hi9BoUEa1awA",
        "outputId": "3ac46c7b-5526-4b10-d879-341e2b1f0e4f"
      },
      "execution_count": null,
      "outputs": [
        {
          "output_type": "stream",
          "name": "stdout",
          "text": [
            "Downloading data from https://storage.googleapis.com/tensorflow/tf-keras-datasets/mnist.npz\n",
            "11490434/11490434 [==============================] - 0s 0us/step\n"
          ]
        },
        {
          "output_type": "error",
          "ename": "AttributeError",
          "evalue": "'numpy.ndarray' object has no attribute 'dtypes'",
          "traceback": [
            "\u001b[0;31m---------------------------------------------------------------------------\u001b[0m",
            "\u001b[0;31mAttributeError\u001b[0m                            Traceback (most recent call last)",
            "\u001b[0;32m<ipython-input-1-6d4b90393c8b>\u001b[0m in \u001b[0;36m<cell line: 10>\u001b[0;34m()\u001b[0m\n\u001b[1;32m      8\u001b[0m \u001b[0mx_train\u001b[0m \u001b[0;34m=\u001b[0m \u001b[0mx_train\u001b[0m \u001b[0;34m/\u001b[0m \u001b[0;36m255.0\u001b[0m\u001b[0;34m\u001b[0m\u001b[0;34m\u001b[0m\u001b[0m\n\u001b[1;32m      9\u001b[0m \u001b[0mx_test\u001b[0m \u001b[0;34m=\u001b[0m \u001b[0mx_test\u001b[0m \u001b[0;34m/\u001b[0m \u001b[0;36m255.0\u001b[0m\u001b[0;34m\u001b[0m\u001b[0;34m\u001b[0m\u001b[0m\n\u001b[0;32m---> 10\u001b[0;31m \u001b[0mprint\u001b[0m\u001b[0;34m(\u001b[0m\u001b[0mx_train\u001b[0m\u001b[0;34m.\u001b[0m\u001b[0mdtypes\u001b[0m\u001b[0;34m)\u001b[0m\u001b[0;34m\u001b[0m\u001b[0;34m\u001b[0m\u001b[0m\n\u001b[0m\u001b[1;32m     11\u001b[0m \u001b[0;34m\u001b[0m\u001b[0m\n\u001b[1;32m     12\u001b[0m \u001b[0;34m\u001b[0m\u001b[0m\n",
            "\u001b[0;31mAttributeError\u001b[0m: 'numpy.ndarray' object has no attribute 'dtypes'"
          ]
        }
      ]
    },
    {
      "cell_type": "markdown",
      "source": [
        "## Simple Tensorflow Implemetation"
      ],
      "metadata": {
        "id": "wE4DR7jW7Ovi"
      }
    },
    {
      "cell_type": "code",
      "source": [
        "import tensorflow as tf\n",
        "from tensorflow import keras\n",
        "from tensorflow.keras import layers\n",
        "import numpy as np\n",
        "import matplotlib.pyplot as plt\n",
        "\n",
        "\n",
        "(x_train, y_train), (x_test, y_test) = keras.datasets.mnist.load_data()\n",
        "\n",
        "x_train = x_train / 255.0\n",
        "x_test = x_test / 255.0\n",
        "\n",
        "x_train_flat = x_train.reshape(-1, 784)\n",
        "x_test_flat = x_test.reshape(-1, 784)\n",
        "print(x_train_flat)\n",
        "\n",
        "#The Model With 2 hidden Layers\n",
        "model = keras.Sequential([\n",
        "    layers.Dense(20, activation='relu', input_shape=(784,)),\n",
        "    layers.Dense(10, activation='relu'),\n",
        "    layers.Dense(10, activation='softmax')\n",
        "])\n",
        "\n",
        "\n",
        "optimizer = tf.keras.optimizers.Adam(learning_rate=0.01)\n",
        "model.compile(optimizer=optimizer,\n",
        "              loss='sparse_categorical_crossentropy',\n",
        "              metrics=['accuracy'])\n",
        "\n",
        "model.fit(x_train_flat, y_train, epochs=10, validation_split=0.1)\n",
        "\n",
        "\n",
        "test_loss, test_accuracy = model.evaluate(x_test_flat, y_test, verbose=0)\n",
        "print(\"Test accuracy:\", test_accuracy)\n",
        "\n",
        "\n",
        "def test_prediction(index):\n",
        "    current_image = x_test[index]\n",
        "    current_image_flat = x_test_flat[index]\n",
        "\n",
        "    prediction = model.predict(np.expand_dims(current_image_flat, 0))\n",
        "    predicted_class = np.argmax(prediction)\n",
        "\n",
        "    print(f\"Predicted class: {predicted_class}\")\n",
        "    print(f\"Actual class: {y_test[index]}\")\n",
        "\n",
        "\n",
        "    plt.imshow(current_image, cmap='gray')\n",
        "    plt.show()\n",
        "\n",
        "[print(test_prediction(i)) for i in range(3)]\n",
        "\n"
      ],
      "metadata": {
        "colab": {
          "base_uri": "https://localhost:8080/",
          "height": 1000
        },
        "id": "VBBFN_k_jqRu",
        "outputId": "72347eb1-6b26-4cb8-d7dc-5c1cd2a4f66c"
      },
      "execution_count": null,
      "outputs": [
        {
          "output_type": "stream",
          "name": "stdout",
          "text": [
            "[[0. 0. 0. ... 0. 0. 0.]\n",
            " [0. 0. 0. ... 0. 0. 0.]\n",
            " [0. 0. 0. ... 0. 0. 0.]\n",
            " ...\n",
            " [0. 0. 0. ... 0. 0. 0.]\n",
            " [0. 0. 0. ... 0. 0. 0.]\n",
            " [0. 0. 0. ... 0. 0. 0.]]\n",
            "Epoch 1/10\n",
            "1688/1688 [==============================] - 5s 3ms/step - loss: 0.3677 - accuracy: 0.8914 - val_loss: 0.2116 - val_accuracy: 0.9388\n",
            "Epoch 2/10\n",
            "1688/1688 [==============================] - 3s 2ms/step - loss: 0.2549 - accuracy: 0.9265 - val_loss: 0.1867 - val_accuracy: 0.9460\n",
            "Epoch 3/10\n",
            "1688/1688 [==============================] - 3s 2ms/step - loss: 0.2283 - accuracy: 0.9352 - val_loss: 0.1960 - val_accuracy: 0.9452\n",
            "Epoch 4/10\n",
            "1688/1688 [==============================] - 3s 2ms/step - loss: 0.2213 - accuracy: 0.9369 - val_loss: 0.2016 - val_accuracy: 0.9467\n",
            "Epoch 5/10\n",
            "1688/1688 [==============================] - 4s 3ms/step - loss: 0.2113 - accuracy: 0.9398 - val_loss: 0.2221 - val_accuracy: 0.9370\n",
            "Epoch 6/10\n",
            "1688/1688 [==============================] - 4s 2ms/step - loss: 0.2074 - accuracy: 0.9411 - val_loss: 0.1965 - val_accuracy: 0.9482\n",
            "Epoch 7/10\n",
            "1688/1688 [==============================] - 3s 2ms/step - loss: 0.2009 - accuracy: 0.9434 - val_loss: 0.1884 - val_accuracy: 0.9493\n",
            "Epoch 8/10\n",
            "1688/1688 [==============================] - 4s 2ms/step - loss: 0.1974 - accuracy: 0.9445 - val_loss: 0.2100 - val_accuracy: 0.9448\n",
            "Epoch 9/10\n",
            "1688/1688 [==============================] - 3s 2ms/step - loss: 0.1917 - accuracy: 0.9457 - val_loss: 0.1872 - val_accuracy: 0.9507\n",
            "Epoch 10/10\n",
            "1688/1688 [==============================] - 3s 2ms/step - loss: 0.1838 - accuracy: 0.9476 - val_loss: 0.1928 - val_accuracy: 0.9495\n",
            "Test accuracy: 0.9394000172615051\n",
            "1/1 [==============================] - 0s 82ms/step\n",
            "Predicted class: 7\n",
            "Actual class: 7\n"
          ]
        },
        {
          "output_type": "display_data",
          "data": {
            "text/plain": [
              "<Figure size 640x480 with 1 Axes>"
            ],
            "image/png": "[encoded data removed]"
          },
          "metadata": {}
        },
        {
          "output_type": "stream",
          "name": "stdout",
          "text": [
            "None\n",
            "1/1 [==============================] - 0s 19ms/step\n",
            "Predicted class: 2\n",
            "Actual class: 2\n"
          ]
        },
        {
          "output_type": "display_data",
          "data": {
            "text/plain": [
              "<Figure size 640x480 with 1 Axes>"
            ],
            "image/png": "[encoded data removed]"
          },
          "metadata": {}
        },
        {
          "output_type": "stream",
          "name": "stdout",
          "text": [
            "None\n",
            "1/1 [==============================] - 0s 20ms/step\n",
            "Predicted class: 1\n",
            "Actual class: 1\n"
          ]
        },
        {
          "output_type": "display_data",
          "data": {
            "text/plain": [
              "<Figure size 640x480 with 1 Axes>"
            ],
            "image/png": "[encoded data removed]"
          },
          "metadata": {}
        },
        {
          "output_type": "stream",
          "name": "stdout",
          "text": [
            "None\n"
          ]
        },
        {
          "output_type": "execute_result",
          "data": {
            "text/plain": [
              "[None, None, None]"
            ]
          },
          "metadata": {},
          "execution_count": 4
        }
      ]
    },
    {
      "cell_type": "code",
      "source": [],
      "metadata": {
        "id": "tOBud-kdl6GY"
      },
      "execution_count": null,
      "outputs": []
    },
    {
      "cell_type": "code",
      "source": [],
      "metadata": {
        "id": "RUjnafwDmBL4"
      },
      "execution_count": null,
      "outputs": []
    }
  ]
}