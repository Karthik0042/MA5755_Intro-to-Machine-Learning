{
  "nbformat": 4,
  "nbformat_minor": 0,
  "metadata": {
    "colab": {
      "provenance": [],
      "authorship_tag": "ABX9TyOqGQf3jO7sOfSUhVy8g8sd",
      "include_colab_link": true
    },
    "kernelspec": {
      "name": "python3",
      "display_name": "Python 3"
    },
    "language_info": {
      "name": "python"
    }
  },
  "cells": [
    {
      "cell_type": "markdown",
      "metadata": {
        "id": "view-in-github",
        "colab_type": "text"
      },
      "source": [
        "<a href=\"https://colab.research.google.com/github/Karthik0042/MA5755_Intro-to-Machine-Learning/blob/main/LogisticRegression_MA5755.ipynb\" target=\"_parent\"><img src=\"https://colab.research.google.com/assets/colab-badge.svg\" alt=\"Open In Colab\"/></a>"
      ]
    },
    {
      "cell_type": "code",
      "source": [],
      "metadata": {
        "id": "CD_b538fyfbX"
      },
      "execution_count": null,
      "outputs": []
    },
    {
      "cell_type": "markdown",
      "source": [
        "# HW 3 (Logistic Regression)"
      ],
      "metadata": {
        "id": "mp4l26UHdfY1"
      }
    },
    {
      "cell_type": "markdown",
      "source": [
        "## Intialising the datasets"
      ],
      "metadata": {
        "id": "qzcF2Ixcdxtp"
      }
    },
    {
      "cell_type": "code",
      "source": [
        "import numpy as np\n",
        "import pandas as pd\n",
        "import matplotlib.pyplot as plt\n",
        "from sklearn.model_selection import train_test_split\n",
        "\n",
        "# Loading the dataset\n",
        "df = pd.read_csv(\"smarket.csv\")\n",
        "\n",
        "# Mapping the dataset with 0's and 1's so that we have all numeric data\n",
        "\n",
        "df['Direction'] = df['Direction'].map({'Up': 1, 'Down': 0})\n",
        "\n",
        "#Getting the coorelation_matrix\n",
        "corrm = df.iloc[:, 1:].corr()\n",
        "\n",
        "\n",
        "# Split the dataset into training (years 2001 to 2004) and testing (year 2005) subsets\n",
        "train_data = df[df['Year'] < 2005]\n",
        "test_data = df[df['Year'] == 2005]\n",
        "\n",
        "# Extract features and target variable for training and testing\n",
        "X_train = train_data[['Lag1', 'Lag2', 'Lag3', 'Lag4', 'Lag5', 'Volume','Today']].values\n",
        "y_train = train_data['Direction'].values\n",
        "X_test = test_data[['Lag1', 'Lag2', 'Lag3', 'Lag4', 'Lag5', 'Volume','Today']].values\n",
        "y_test = test_data['Direction'].values"
      ],
      "metadata": {
        "id": "CQ8Y2zk8d6pQ"
      },
      "execution_count": null,
      "outputs": []
    },
    {
      "cell_type": "markdown",
      "source": [
        "## Functions\n"
      ],
      "metadata": {
        "id": "l1nnbkg3eWbJ"
      }
    },
    {
      "cell_type": "code",
      "source": [
        "def sigmoid(z):\n",
        "    return 1 / (1 + np.exp(-z))\n",
        "\n",
        "def fullGradient(w, X, y):\n",
        "    N = len(y)\n",
        "    grad = np.dot(X.T, sigmoid(np.dot(X, w)) - y) / N\n",
        "    return grad\n",
        "\n",
        "def randGradient(w, X, y, n):\n",
        "    grad = (sigmoid(np.dot(X[n], w)) - y[n]) * X[n]\n",
        "    return grad\n",
        "\n",
        "def fdescent(X, y, rho, job, nEpoch):\n",
        "    global indices\n",
        "    N = X.shape[0]\n",
        "    D = X.shape[1]\n",
        "    w = np.zeros(D)  # Initial parameters set to 0\n",
        "    f_history = []\n",
        "\n",
        "    for epoch in range(nEpoch):\n",
        "        if job == 'full':\n",
        "            grad = fullGradient(w, X, y)\n",
        "            indices = range(N)\n",
        "        elif job == 'stochastic':\n",
        "            indices = np.random.permutation(N)\n",
        "\n",
        "        for n in indices:\n",
        "            if job == 'stochastic':\n",
        "                grad = randGradient(w, X, y, n)\n",
        "            w -= rho(epoch * N + n + 1) * grad\n",
        "            f_history.append(-np.mean(y * np.log(sigmoid(np.dot(X, w))) + (1 - y) * np.log(1 - sigmoid(np.dot(X, w)))))\n",
        "\n",
        "    return w, f_history\n",
        "\n",
        "def learning_rate_schedule(t):\n",
        "    return 1 / np.sqrt(t)\n",
        "\n",
        "def predict(X, w):\n",
        "    probabilities = sigmoid(np.dot(X, w))\n",
        "    predictions = np.round(probabilities)\n",
        "    return probabilities, predictions"
      ],
      "metadata": {
        "id": "oN_kKvXBebJj"
      },
      "execution_count": null,
      "outputs": []
    },
    {
      "cell_type": "markdown",
      "source": [
        "## Testing and predictions"
      ],
      "metadata": {
        "id": "PPk693TGel4-"
      }
    },
    {
      "cell_type": "code",
      "source": [
        "w_final_full, f_history_full = fdescent(X_train, y_train, learning_rate_schedule, 'full', nEpoch=3)\n",
        "\n",
        "\n",
        "w_final_stochastic, f_history_stochastic = fdescent(X_train, y_train, learning_rate_schedule , 'stochastic',nEpoch = 3)"
      ],
      "metadata": {
        "colab": {
          "base_uri": "https://localhost:8080/"
        },
        "id": "ey7TDzICewuS",
        "outputId": "caef81ed-1e1b-48e7-effc-936869e8e234"
      },
      "execution_count": null,
      "outputs": [
        {
          "output_type": "stream",
          "name": "stderr",
          "text": [
            "<ipython-input-3-6c5ca0637ff5>:31: RuntimeWarning: divide by zero encountered in log\n",
            "  f_history.append(-np.mean(y * np.log(sigmoid(np.dot(X, w))) + (1 - y) * np.log(1 - sigmoid(np.dot(X, w)))))\n",
            "<ipython-input-3-6c5ca0637ff5>:31: RuntimeWarning: invalid value encountered in multiply\n",
            "  f_history.append(-np.mean(y * np.log(sigmoid(np.dot(X, w))) + (1 - y) * np.log(1 - sigmoid(np.dot(X, w)))))\n"
          ]
        }
      ]
    },
    {
      "cell_type": "code",
      "source": [
        "plt.plot(f_history_full, label='Full Gradient Descent')\n",
        "plt.plot(f_history_stochastic, label='Stochastic Gradient Descent')\n",
        "plt.xlabel('Iteration')\n",
        "plt.ylabel('Objective Function Value')\n",
        "plt.title('Convergence of Objective Function')\n",
        "plt.legend()\n",
        "plt.show()\n"
      ],
      "metadata": {
        "colab": {
          "base_uri": "https://localhost:8080/",
          "height": 472
        },
        "id": "nQBwHQ6te_tc",
        "outputId": "87567534-de4f-49ea-ac90-d47d9c31d4eb"
      },
      "execution_count": null,
      "outputs": [
        {
          "output_type": "display_data",
          "data": {
            "text/plain": [
              "<Figure size 640x480 with 1 Axes>"
            ],
            "image/png": "[encoded data removed]"
          },
          "metadata": {}
        }
      ]
    },
    {
      "cell_type": "code",
      "source": [
        "prob_full, pred_full = predict(X_test, w_final_full)\n",
        "prob_stochastic, pred_stochastic = predict(X_test, w_final_stochastic)"
      ],
      "metadata": {
        "id": "obStm1Z_hQAD"
      },
      "execution_count": null,
      "outputs": []
    },
    {
      "cell_type": "code",
      "source": [
        "results_table = pd.DataFrame({\n",
        "    'Probabilities (Full Gradient Descent)': prob_full,\n",
        "    'Predictions (Full Gradient Descent)': pred_full,\n",
        "    'Probabilities (Stochastic Gradient Descent)': prob_stochastic,\n",
        "    'Predictions (Stochastic Gradient Descent)': pred_stochastic,\n",
        "    'Actual Direction': y_test\n",
        "})\n",
        "\n",
        "# Count misclassified days\n",
        "misclassified_days = len(results_table[results_table['Predictions (Full Gradient Descent)'] != results_table['Actual Direction']])\n",
        "print(\"Misclassified Days:\", misclassified_days)"
      ],
      "metadata": {
        "colab": {
          "base_uri": "https://localhost:8080/"
        },
        "id": "EXDZqUcpm9lb",
        "outputId": "fbd595d1-0f57-4ed8-c754-93fd425346d6"
      },
      "execution_count": null,
      "outputs": [
        {
          "output_type": "stream",
          "name": "stdout",
          "text": [
            "Misclassified Days: 2\n"
          ]
        }
      ]
    },
    {
      "cell_type": "code",
      "source": [
        "accuracy_full = np.mean(pred_full == y_test)\n",
        "print(\"Accuracy (Full Gradient Descent):\", accuracy_full)\n",
        "\n",
        "\n",
        "accuracy_stochastic = np.mean(pred_stochastic == y_test)\n",
        "print(\"Accuracy (Stochastic Gradient Descent):\", accuracy_stochastic)\n",
        "\n"
      ],
      "metadata": {
        "colab": {
          "base_uri": "https://localhost:8080/"
        },
        "id": "epnRJtTmfD1C",
        "outputId": "660f9446-2ae4-4f1e-e125-592091a1211e"
      },
      "execution_count": null,
      "outputs": [
        {
          "output_type": "stream",
          "name": "stdout",
          "text": [
            "Accuracy (Full Gradient Descent): 0.9920634920634921\n",
            "Accuracy (Stochastic Gradient Descent): 0.9880952380952381\n"
          ]
        }
      ]
    },
    {
      "cell_type": "markdown",
      "source": [
        "## Corr Matrix"
      ],
      "metadata": {
        "id": "EBUyG0o8d5BY"
      }
    },
    {
      "cell_type": "code",
      "source": [
        "df = df.drop('Year', axis=1)\n",
        "corr_matrix = df.corr()\n",
        "\n",
        "print(corr_matrix)"
      ],
      "metadata": {
        "colab": {
          "base_uri": "https://localhost:8080/"
        },
        "id": "5N2KEqm-dn7_",
        "outputId": "a649dd20-cda9-422e-dd12-830ff3e30d7a"
      },
      "execution_count": null,
      "outputs": [
        {
          "output_type": "stream",
          "name": "stdout",
          "text": [
            "               Lag1      Lag2      Lag3      Lag4      Lag5    Volume  \\\n",
            "Lag1       1.000000 -0.026294 -0.010803 -0.002986 -0.005675  0.040910   \n",
            "Lag2      -0.026294  1.000000 -0.025897 -0.010854 -0.003558 -0.043383   \n",
            "Lag3      -0.010803 -0.025897  1.000000 -0.024051 -0.018808 -0.041824   \n",
            "Lag4      -0.002986 -0.010854 -0.024051  1.000000 -0.027084 -0.048414   \n",
            "Lag5      -0.005675 -0.003558 -0.018808 -0.027084  1.000000 -0.022002   \n",
            "Volume     0.040910 -0.043383 -0.041824 -0.048414 -0.022002  1.000000   \n",
            "Today     -0.026155 -0.010250 -0.002448 -0.006900 -0.034860  0.014592   \n",
            "Direction -0.039757 -0.024081  0.006132  0.004215  0.005423  0.022951   \n",
            "\n",
            "              Today  Direction  \n",
            "Lag1      -0.026155  -0.039757  \n",
            "Lag2      -0.010250  -0.024081  \n",
            "Lag3      -0.002448   0.006132  \n",
            "Lag4      -0.006900   0.004215  \n",
            "Lag5      -0.034860   0.005423  \n",
            "Volume     0.014592   0.022951  \n",
            "Today      1.000000   0.730563  \n",
            "Direction  0.730563   1.000000  \n"
          ]
        }
      ]
    },
    {
      "cell_type": "code",
      "source": [
        "'''Answers'''\n",
        "# Misclassified Days: 2\n",
        "#Accuracy (Full Gradient Descent): 0.9920634920634921\n",
        "#Accuracy (Stochastic Gradient Descent): 0.9880952380952381"
      ],
      "metadata": {
        "colab": {
          "base_uri": "https://localhost:8080/",
          "height": 35
        },
        "id": "j7YqX83adO4Y",
        "outputId": "5a163711-1c92-4437-d3ae-fdff4b98ae59"
      },
      "execution_count": null,
      "outputs": [
        {
          "output_type": "execute_result",
          "data": {
            "text/plain": [
              "'Answers'"
            ],
            "application/vnd.google.colaboratory.intrinsic+json": {
              "type": "string"
            }
          },
          "metadata": {},
          "execution_count": 9
        }
      ]
    },
    {
      "cell_type": "code",
      "source": [],
      "metadata": {
        "id": "t86TtPfZdSOp"
      },
      "execution_count": null,
      "outputs": []
    }
  ]
}